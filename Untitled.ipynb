{
 "cells": [
  {
   "cell_type": "code",
   "execution_count": 1,
   "id": "b943db55",
   "metadata": {},
   "outputs": [],
   "source": [
    "import numpy as np\n",
    "import pandas as pd\n",
    "import matplotlib.pyplot as plt"
   ]
  },
  {
   "cell_type": "code",
   "execution_count": 3,
   "id": "2dfd080d",
   "metadata": {},
   "outputs": [],
   "source": [
    "df = pd.read_csv(\"df_eye_raw.csv\")"
   ]
  },
  {
   "cell_type": "code",
   "execution_count": 4,
   "id": "7328e2d9",
   "metadata": {},
   "outputs": [
    {
     "data": {
      "text/plain": [
       "Index(['Unnamed: 0', 'subject', 'time', 'trial', 'right.pupil_diameter_mm',\n",
       "       'left.pupil_diameter_mm', 'right.gaze_direction_normalized.x',\n",
       "       'right.gaze_direction_normalized.y',\n",
       "       'right.gaze_direction_normalized.z', 'left.gaze_direction_normalized.x',\n",
       "       'left.gaze_direction_normalized.y', 'left.gaze_direction_normalized.z',\n",
       "       'LastObject', 'What.Visible', 'Alteration', 'if.Altered',\n",
       "       'if.Ascending'],\n",
       "      dtype='object')"
      ]
     },
     "execution_count": 4,
     "metadata": {},
     "output_type": "execute_result"
    }
   ],
   "source": [
    "df.columns"
   ]
  },
  {
   "cell_type": "code",
   "execution_count": 19,
   "id": "cfeeca15",
   "metadata": {},
   "outputs": [],
   "source": [
    "plot_df=df[[\"right.gaze_direction_normalized.x\",\"right.gaze_direction_normalized.y\",\"right.pupil_diameter_mm\"]][:1000]"
   ]
  },
  {
   "cell_type": "code",
   "execution_count": 21,
   "id": "41b82da1",
   "metadata": {},
   "outputs": [],
   "source": [
    "Z = plot_df.pivot_table(index=\"right.gaze_direction_normalized.x\", columns=\"right.gaze_direction_normalized.y\", values=\"right.pupil_diameter_mm\").T.values\n",
    "\n",
    "X_unique = np.sort(plot_df[\"right.gaze_direction_normalized.x\"].unique())\n",
    "Y_unique = np.sort(plot_df[\"right.gaze_direction_normalized.y\"].unique())\n",
    "X, Y = np.meshgrid(X_unique, Y_unique)"
   ]
  },
  {
   "cell_type": "code",
   "execution_count": 25,
   "id": "dbdcfef9",
   "metadata": {},
   "outputs": [
    {
     "name": "stdout",
     "output_type": "stream",
     "text": [
      "883\n",
      "870\n"
     ]
    }
   ],
   "source": [
    "print(len(X_unique))\n",
    "print(len(Y_unique))"
   ]
  }
 ],
 "metadata": {
  "kernelspec": {
   "display_name": "Python 3",
   "language": "python",
   "name": "python3"
  },
  "language_info": {
   "codemirror_mode": {
    "name": "ipython",
    "version": 3
   },
   "file_extension": ".py",
   "mimetype": "text/x-python",
   "name": "python",
   "nbconvert_exporter": "python",
   "pygments_lexer": "ipython3",
   "version": "3.8.8"
  }
 },
 "nbformat": 4,
 "nbformat_minor": 5
}
